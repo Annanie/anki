{
 "cells": [
  {
   "cell_type": "code",
   "execution_count": 264,
   "metadata": {},
   "outputs": [],
   "source": [
    "import re\n",
    "import pandas as pd"
   ]
  },
  {
   "cell_type": "code",
   "execution_count": 265,
   "metadata": {},
   "outputs": [],
   "source": [
    "filename = \"anki.txt\"\n",
    "file = open(filename, \"r\")\n",
    "text = file.read()"
   ]
  },
  {
   "cell_type": "code",
   "execution_count": 266,
   "metadata": {},
   "outputs": [],
   "source": [
    "section_split = r\"\\\\section\"\n",
    "sections = re.split(section_split,text)[1:]\n",
    "\n",
    "card_split = r\"\\\\card\"\n",
    "sections_cards = [re.split(card_split,section) for section in sections]\n",
    "\n",
    "cards = list(sum(sections_cards, []))"
   ]
  },
  {
   "cell_type": "code",
   "execution_count": 267,
   "metadata": {},
   "outputs": [],
   "source": [
    "double_dolars = \"\\$\\$(.*?)\\$\\$\"\n",
    "single_dolars = \"\\$([^\\[\\$\\]][^\\$]*?[^\\/\\[\\$])\\$\"\n",
    "\n",
    "def make_anki(string):\n",
    "    double_dolars_str = re.sub(double_dolars, r\"[$$]\\1[/$$]\", string)\n",
    "    single_dolars_str = re.sub(single_dolars, r\"[$]\\1[/$]\", double_dolars_str)\n",
    "    return single_dolars_str\n",
    "\n",
    "def prepare_card(raw_card):\n",
    "    raw_front, raw_back = raw_card.split(\"\\n\", 1)\n",
    "    front = raw_front[1:-1]\n",
    "    raw_back = raw_back.strip(\"\\t\")\n",
    "    back = re.sub(r\"[\\n]*$\", \"\",raw_back.strip(\" \")).rstrip(\"\\n\")\n",
    "    back = back.replace(\"\\\\\\n\",\"<br>\")\n",
    "    return [make_anki(front), make_anki(back).replace(\"\\n\",\"<br>\")]"
   ]
  },
  {
   "cell_type": "code",
   "execution_count": 268,
   "metadata": {},
   "outputs": [],
   "source": [
    "anki_cards = [prepare_card(card) for card in cards]"
   ]
  },
  {
   "cell_type": "code",
   "execution_count": 269,
   "metadata": {},
   "outputs": [
    {
     "data": {
      "text/plain": [
       "[['Czynnik dyskontujący (B)', '[$]B(t) = \\\\frac{|C_0|}{C_t}[/$]'],\n",
       " ['Powiązanie B z efektywną stopą zwrotu R', '[$]B = \\\\frac{1}{(1+R)^t}[/$]'],\n",
       " ['Powiązanie b z intensywnością oprocentowania [$]\\\\Bar{R}[/$]',\n",
       "  '[$]B(t) = e^{-\\\\Bar{R}t}[/$]'],\n",
       " ['Czynnik dyskontujący a stopa dyskonta', '[$]B(t) = 1 - D(t)[/$]'],\n",
       " ['Struktura terminowa (definicja)',\n",
       "  'Relacja między efektywnością inwestycji a czasem pozostałym do momentu zapadalności'],\n",
       " ['Warunki brzegowe na funkcję B',\n",
       "  '[$]B(0) = 1[/$]\\\\<br>    [$]\\\\lim\\\\limits_{t \\\\to \\\\infty} B(t) = 0[/$]\\\\<br>    B ściśle malejąca'],\n",
       " ['Yield function (Y(t)), wzór',\n",
       "  '[$$]Y(t) = -lnB(t) = \\\\int_0^t \\\\delta (s)\\\\,ds[/$$]'],\n",
       " ['Struktura terminowa płaska (Y, R, B)',\n",
       "  '[$$]Y(t) = t\\\\delta[/$$]<br>    [$$]B(t) = e^{-t\\\\delta}[/$$]<br>    [$$]R(t) = e^{\\\\delta} - 1[/$$]'],\n",
       " ['Struktura terminowa kawałkami stała (intuicja)',\n",
       "  '[$]\\\\delta (t) = \\\\delta_i[/$] gdy [$]t \\\\in [t_{i-1},t_i][/$]'],\n",
       " ['Wzór Stoodleya (do struktury terminowej kawałkami płaskiej)',\n",
       "  '[$$]Y(t) = \\\\int_0^t \\\\delta (s) \\\\, ds = (p+s)t - ln (\\\\frac{1+r^{st}}{1+r})[/$$]\\\\<br>    [$$]B(t) = \\\\frac{1}{1+r}e^{-(p+s)t}+\\\\frac{r}{1+r}e^{-pt}[/$$]'],\n",
       " ['Kontrakty FRA (definicja ogólna)',\n",
       "  'FRA (ang. Forward Rate Agreement) to umowa pomiędzy dwoma kontrahentami którzy ustalają wysokość stopy procentowej mającej obowiązywać w przyszłości dla określonej kwoty wyrażonej w walucie transakcji ustalonego okresu'],\n",
       " ['FRA (długa pozycja)',\n",
       "  'Otrzymuje przepływ determinowany przez stawkę referencyjną, w zamian za stawkę stałą kontraktu (RECEIVE floating, PAY fixed)'],\n",
       " ['FRA (krótka pozycja)',\n",
       "  'Otrzymuje przepływ stały w kwocie ustalonej w dniu zawarcia transakcji, w zamian za stawkę referencyjną (RECEIVE fixed, PAY floating)'],\n",
       " ['Data rozpoczęcia okresu odsetkowego',\n",
       "  '[$]T_s[/$]  przeważnie drugi kolejny dzień roboczy'],\n",
       " ['FRA - wypłaty wzór',\n",
       "  '[$$]CF_{buyer} = K \\\\frac{(r_{ref}-r_{FRA})(T_e - T_s)}{1 + r_{ref}(T_e-T_s)} = -CF_{seller}[/$$]'],\n",
       " ['Powiązanie stawki [$]r_{FRA}[/$] ze strukturą terminową stóp procentowych w [$]T_t[/$]',\n",
       "  '[$$]r_{FRA}(T_e-T_s)=\\\\frac{B(T_s-T_t)}{B(T_e-T_t)}-1[/$$]'],\n",
       " ['Sztywna stopa procentowa',\n",
       "  'Ustalana w momencie zawarcia umowy lub emisji, np. obligacje o stałym oprocentowaniu lub zerokuponowe'],\n",
       " ['Zmienne stopy procentowe',\n",
       "  'Ustalanie odsetek następuje w trakcie trwania umowy'],\n",
       " ['WIBOR',\n",
       "  'WIBOR (ang. Warsaw Interbank Offered Rate) to stopa oprocentowania pożyczek w polskim rynku międzybankowym. Ustalana jest w każdy dzień roboczy o godzinie 11.'],\n",
       " ['WIBID',\n",
       "  'WIBID (ang. Warsaw Interbank Bid Rate) to roczna stopa procentowa, jaką płacą banki za środki przyjęte w depozyt od innych banków. Ustalana w każdy dzień roboczy o godzinie 11.'],\n",
       " ['Obligacja',\n",
       "  'Obligacja to papier wartościowy poświadczający wierzytelność na określoną sumę. Emisja obligacji następuje seriami, przy czym w jednej serii wszystkie obligacje mają tę samą wartość nominalną, tej sam termin wykupu i ten sam sposób naliczania odsetek.'],\n",
       " ['Obligacja WSmmrr', 'Obligacja dwudziestoletnia'],\n",
       " ['Obligacja DSmmrr', 'Obligacja dziesięcioletnie'],\n",
       " ['Obligacje SPmmr i PSmmrr', 'Obligacje pięcioletnie'],\n",
       " ['Obligacje OKmmrr', 'Dwuletnie obligacje zerokuponowe'],\n",
       " ['Cena czysta obligacji', 'Wartość nominalna * kurs'],\n",
       " ['Cena brudna obligacji', 'Cena czysta + narosłe odsetki'],\n",
       " ['B(t) dla obligacji zerokuponowych i bonów',\n",
       "  '[$$] B(t) = \\\\frac{P}{C_t} [/$$]<br>    $P[$] cena zakupu\\\\<br>    [/$]C_t$ kwota otrzymana po wykupieniu obligacji'],\n",
       " ['YTM (definicja)',\n",
       "  'Yield To Maturity - stopa zwrotu liczona do momentu zapadalności'],\n",
       " ['YTM obliczanie',\n",
       "  'Założenie teoretyczne - reinwestujemy otrzymane odsetki z taką samoą efektywną stopą zwrotu<br>    [$$]P(1+YTM)^{t_n}=C_1(1+YTM)^{t_n-t_1}+...+C_{n-1}(1+YTM)^{t_n-t_{n-1}}+C_n[/$$]'],\n",
       " ['Obliczanie B(t) na podstawie YTM',\n",
       "  '[$$]B(t_n) = \\\\frac{1}{(1+YTM)^{t_n}}[/$$]'],\n",
       " ['Metoda łańcuchowa obliczania [$]B(t_n)[/$]',\n",
       "  'Jeśli znamy B(t) dla [$]t=t_1,...,t_{n-1}[/$] to [$]B(t_n)[/$] wyznaczamy ze wzoru<br>    [$$]P = \\\\sum^n_{k=1}C_kB(t_k)[/$$]'],\n",
       " ['Present Value (definicja)',\n",
       "  'Wartość obecna (Present Value) przyszłej kwoty K to wartość tej kwoty w chwili obecnej wyznaczonej przez porównanie z lokatą bankową lub inną wzorcową inwestycją.'],\n",
       " ['Dyskontowanie',\n",
       "  'Proces przekształcania przyszłej wartości pieniądza. Pozwala porównać ze sobą kontrakty finansowe o przepływach gotówki w różnych momentach czasu'],\n",
       " ['Dyskontowanie za pomocą struktury terminowej stóp procentowych (wzór)',\n",
       "  '[$$]PV = \\\\sum^n_{i=0}CF_iB(t_i)[/$$]'],\n",
       " ['Dyskontowanie za pomocą wybranego procesu akumulacji K(t)',\n",
       "  '[$$]PV = \\\\sum^n_{i=0}\\\\frac{CF_iK(t)}{K(T+t_i)}[/$$]<br>    gdzie T to moment zawarcia transakcji'],\n",
       " ['Modelowanie inwestycji za pomocą ciągłego strumienia płatności z zadaną gęstością g(t)',\n",
       "  'Wzór na wypłatę w okresie [$]t_1, t_2[/$]<br>    [$$]C(t_1,t_2) = \\\\int^{t_2}_{t_1}g(t)dt[/$$]<br>    Wzór na wartość obecną<br>    [$$]PV=\\\\int^{\\\\infty}_0g(t)B(t)dt[/$$]'],\n",
       " ['Zależność struktury terminowej od procesu akumulacji',\n",
       "  '[$$]B_T(t)=\\\\frac{K(T)}{K(T+t)}[/$$]'],\n",
       " ['Zależność opłacalności inwestycji od PV',\n",
       "  '[$]PV>0[/$] inwestycja opłacalna<br>    [$]PV<0[/$] inwestycja nieopłacalna'],\n",
       " ['IRR',\n",
       "  'IRR (Internal Rate of Return) to dodatni pierwiastek r<br>    [$$]\\\\sum^n_{t=0}\\\\frac{CF_i}{(1+r)^{t_i}}[/$$]<br>    Wewnętrzna intensywność to delta'],\n",
       " ['Zależność opłacalności inwestycji od IRR',\n",
       "  '[$]IRR>r[/$] to inwestycja opłacalna<br>    [$]IRR<r[/$] inwestycja nieołacalna'],\n",
       " ['IRR a YTM', 'IRR = YTM'],\n",
       " ['RRSO',\n",
       "  'IRR taki, że każdy [$]CF_k[/$] to<br>    [$$]CF_k=-K_k+RK_k+OD_k+P_k[/$$]<br>    gdzie K to transza kredytu, RK to rata kredytowa, OD to zapłacone odsetki, P to prowizje i inne opłaty'],\n",
       " ['Duration (definicja)',\n",
       "  'Średni czas życia danej inwestycji ważony udziałem wartości obecnej kolejnych przepływów gotówki w wartości obecnej całej inwestycji'],\n",
       " ['Duration (wzór)', '[$$]D=\\\\sum^n_{i=1}\\\\frac{t_iPV_i}{PV}[/$$]'],\n",
       " ['Convexity (definicja)',\n",
       "  'Convexity (wypukłość) to średni kwadrat czasu życia danej inwestycji'],\n",
       " ['Convexity (wzór)', '[$$]C=\\\\sum^n_{i=1}\\\\frac{t_i^2PV_i}{PV}[/$$]'],\n",
       " ['Future Value (definicja)',\n",
       "  'Wielkość przepływu gotówki po czasie t, którego wartość obecna jest równa PV'],\n",
       " ['Future Value (wzór)', '[$$]PV = FV_tB(t)[/$$]'],\n",
       " ['Akcja (definicja)',\n",
       "  'Dokument stwierdzający udział jej posiadacza, czyli akcjonariusza, w majątku spółki akcyjnej'],\n",
       " ['Faza sesji giełdowej - przed otwarciem',\n",
       "  'W tej facie możliwe jest wprowadzanie zleceń do systemu giełdowego. Zlecenia składane przez inwestorów trafiają bezpośrednio do centralnego arkusza zleceń, jednakże nie są zawierane transakcje.'],\n",
       " ['Faza sesji giełdowej - fixing',\n",
       "  'Zostaje wyznaczony kurs i następuje realizacja po tym kirsie jedynie tych wprowadzonych wcześniej zlezeń które mogą być zrealizowane'],\n",
       " ['Faza sesji giełdowej - notowania ciągłe',\n",
       "  'Możliwe jest wprowadzanie zleceń. Transakcje zawierane są na bieżąco, natychmiast po wprowadzeniu zlecenia, które może być zrealizowane. Zlecenie, które ze względu na limit ceny nie może być zrealizowane, zostaje umieszczone w arkuszu zleceń.'],\n",
       " ['Faza sesji giełdowej - dogrywka',\n",
       "  'Wszyscy uczestnicy rynku mogą składań zlecenia kupna i sprzedaży po wyznaczonym kursie.Transakcje zawierane są na bieżąco.'],\n",
       " ['Renta (definicja)', 'Ciąg płatności dokonywany w odstępach czas.'],\n",
       " ['Kursy - oznaczenia',\n",
       "  '[$]K_k[/$] - liczba zleceń kupna z limitem ceny k\\\\<br>    [$]S_k[/$] - liczba zleceń sprzedaży z limitem ceny k\\\\<br>    \\\\<br>    [$$]S_k^+=\\\\sum_{p>k}S_p[/$$]<br>    [$$]S_k^-=\\\\sum_{p<k}S_p[/$$]<br>    \\\\<br>    [$$]K_k^+=\\\\sum_{p>k}K_p[/$$]<br>    [$$]K_k^-=\\\\sum_{p<k}K_p[/$$]'],\n",
       " ['Kurs równowagi (wzór czyli definicja)',\n",
       "  'Takie k dla którego jest spełnione<br>    [$$]S_k+S_k^-\\\\geq K_k^+[/$$]<br>    i<br>    [$$]K_k+K_k^+\\\\geq S_k^-[/$$]'],\n",
       " ['Kurs równowagi (wyznaczanie)',\n",
       "  'M - zbiór kursów równowagi<br>    [$$]m = \\\\sum_pK_p,\\\\; n = \\\\sum_pS_p[/$$]<br>    Ustawiamy n+m limitów w ciąg rosnący<br>    [$$]p_1, p_2, ..., p_m, p_{m+1}, ..., p_{n+m}[/$$]<br>    [$$]M = [p_m,p_{m+1}][/$$]'],\n",
       " ['Wolument obrotu',\n",
       "  '[$$]Vol(x) = min(\\\\sum_{p \\\\geq x}K_p,\\\\sum_{x \\\\geq p}S_p)[/$$]'],\n",
       " ['Wolument obrotu a kurs równowagi',\n",
       "  'Każdy kurs równowagi maksymalizuje wolumen obrotu'],\n",
       " ['Indeks giełdowy',\n",
       "  'Indeks giełdowy jest miernikiem zmian cen papierów wartościowych, obejmującym wszystkie papiery wartościowe danego typu lub ich wybraną grupę. Ma on za zadanie przedstawienie tendencji cenowych na giełdzie'],\n",
       " ['Wyznaczanie indeksu giełdowego',\n",
       "  '[$$]I_t=\\\\frac{M_tI_{t_0}}{M_{t_0}K_t}[/$$]<br>    [$$]M_t=\\\\sum n_iP_{i,t}[/$$]<br><br>    [$]M_t[/$] – wartość (kapitalizacja) portfela indeksu w chwili t\\\\<br>    [$]n_i[/$] – liczba akcji i-tej spółki w portfelu indeksu\\\\<br>    [$]P_{i,t}[/$] – kurs akcji i-tej spółki w chwili (dniu) t\\\\<br>    [$]I_{t_0}[/$] i [$]M_{t_0}[/$] – wartość początkowa (bazowa) indeksu i jego portfela\\\\<br>    [$]K_t[/$] – współczynnik (dzielnik) korygujący'],\n",
       " ['Wyznaczanie indeksu WIG',\n",
       "  '[$$]WIG(t)=\\\\frac{M(t)WIG(0)}{M(0)K(t)}[/$$]<br>    WIG(0) - wartość indeksu w dniu bazowym']]"
      ]
     },
     "execution_count": 269,
     "metadata": {},
     "output_type": "execute_result"
    }
   ],
   "source": [
    "anki_cards"
   ]
  },
  {
   "cell_type": "code",
   "execution_count": 271,
   "metadata": {},
   "outputs": [],
   "source": [
    "df = pd.DataFrame(anki_cards)\n"
   ]
  },
  {
   "cell_type": "code",
   "execution_count": 232,
   "metadata": {},
   "outputs": [
    {
     "data": {
      "text/plain": [
       "['Zależność opłacalności inwestycji od PV',\n",
       " '[$]PV>0[/$] inwestycja opłacalna<br>    [$]PV<0[/$] inwestycja nieopłacalna']"
      ]
     },
     "execution_count": 232,
     "metadata": {},
     "output_type": "execute_result"
    }
   ],
   "source": [
    "prepare_card(card)"
   ]
  },
  {
   "cell_type": "code",
   "execution_count": 274,
   "metadata": {},
   "outputs": [],
   "source": [
    "df.to_csv(\"anki.csv\", header=None, index=None)"
   ]
  },
  {
   "cell_type": "code",
   "execution_count": null,
   "metadata": {},
   "outputs": [],
   "source": []
  }
 ],
 "metadata": {
  "kernelspec": {
   "display_name": "Python 3",
   "language": "python",
   "name": "python3"
  },
  "language_info": {
   "codemirror_mode": {
    "name": "ipython",
    "version": 3
   },
   "file_extension": ".py",
   "mimetype": "text/x-python",
   "name": "python",
   "nbconvert_exporter": "python",
   "pygments_lexer": "ipython3",
   "version": "3.7.0"
  }
 },
 "nbformat": 4,
 "nbformat_minor": 2
}
