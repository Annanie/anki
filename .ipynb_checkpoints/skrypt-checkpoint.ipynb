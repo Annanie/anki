{
 "cells": [
  {
   "cell_type": "code",
   "execution_count": 6,
   "metadata": {},
   "outputs": [],
   "source": [
    "import re"
   ]
  },
  {
   "cell_type": "code",
   "execution_count": 7,
   "metadata": {},
   "outputs": [],
   "source": [
    "filename = \"anki.txt\"\n",
    "file = open(filename, \"r\")\n",
    "text = file.read()"
   ]
  },
  {
   "cell_type": "code",
   "execution_count": 113,
   "metadata": {},
   "outputs": [],
   "source": [
    "section_split = r\"\\\\section\"\n",
    "sections = re.split(section_split,text)[1:]\n",
    "\n",
    "card_split = r\"\\\\card\"\n",
    "sections_cards = [re.split(card_split,section) for section in sections]"
   ]
  },
  {
   "cell_type": "code",
   "execution_count": 130,
   "metadata": {},
   "outputs": [],
   "source": [
    "card = sections_cards[2][7]"
   ]
  },
  {
   "cell_type": "code",
   "execution_count": 131,
   "metadata": {},
   "outputs": [
    {
     "data": {
      "text/plain": [
       "'{Zależność opłacalności inwestycji od PV}\\n    $PV>0$ inwestycja opłacalna\\n    $PV<0$ inwestycja nieopłacalna\\n\\n    '"
      ]
     },
     "execution_count": 131,
     "metadata": {},
     "output_type": "execute_result"
    }
   ],
   "source": [
    "card"
   ]
  },
  {
   "cell_type": "code",
   "execution_count": 132,
   "metadata": {},
   "outputs": [],
   "source": [
    "double_dolars = \"\\$\\$(.*?)\\$\\$\"\n",
    "single_dolars = \"\\$(?:(?!\\[).)*?\\$\"\n",
    "\n",
    "def prepare_card(raw_card):\n",
    "    raw_front, raw_back = raw_card.split(\"\\n\", 1)\n",
    "    todo_front = raw_front[1:-1]\n",
    "    todo_back = re.sub(r\"[\\n]*$\", \"\",raw_back.strip(\" \"))\n",
    "    todo_back = re.sub(double_dolars, r\"[$$]\\1[/$$]\", todo_back)\n",
    "    return todo_front, todo_back"
   ]
  },
  {
   "cell_type": "code",
   "execution_count": 133,
   "metadata": {},
   "outputs": [
    {
     "data": {
      "text/plain": [
       "('Zależność opłacalności inwestycji od PV',\n",
       " '$PV>0$ inwestycja opłacalna\\n    $PV<0$ inwestycja nieopłacalna')"
      ]
     },
     "execution_count": 133,
     "metadata": {},
     "output_type": "execute_result"
    }
   ],
   "source": [
    "s = \"$PV>0$ inwestycja opłacalna\\n [$$]bla bla bla[/$$]   $PV<0$ inwestycja nieopłacalna\""
   ]
  },
  {
   "cell_type": "code",
   "execution_count": null,
   "metadata": {},
   "outputs": [],
   "source": []
  }
 ],
 "metadata": {
  "kernelspec": {
   "display_name": "Python 3",
   "language": "python",
   "name": "python3"
  },
  "language_info": {
   "codemirror_mode": {
    "name": "ipython",
    "version": 3
   },
   "file_extension": ".py",
   "mimetype": "text/x-python",
   "name": "python",
   "nbconvert_exporter": "python",
   "pygments_lexer": "ipython3",
   "version": "3.7.0"
  }
 },
 "nbformat": 4,
 "nbformat_minor": 2
}
